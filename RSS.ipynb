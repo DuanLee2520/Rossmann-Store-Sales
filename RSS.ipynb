{
 "cells": [
  {
   "cell_type": "code",
   "execution_count": 1,
   "id": "49c131e0-33b7-4972-9833-938110d0e04d",
   "metadata": {},
   "outputs": [],
   "source": [
    "import warnings\n",
    "warnings.filterwarnings(\"ignore\")\n",
    "# loading packages\n",
    "# 1 basic\n",
    "import numpy as np\n",
    "import pandas as pd\n",
    "from pandas import Series,DataFrame"
   ]
  },
  {
   "cell_type": "markdown",
   "id": "3fa1f01f-07bf-41a4-a90f-0f697789164e",
   "metadata": {
    "tags": []
   },
   "source": [
    "# 1. get the data"
   ]
  },
  {
   "cell_type": "code",
   "execution_count": 2,
   "id": "1a4d232a-8b43-44cc-8e8e-3f33a20e9fcc",
   "metadata": {},
   "outputs": [],
   "source": [
    "train_df=pd.read_csv('train.csv')\n",
    "store_df=pd.read_csv('store.csv')\n",
    "test_df=pd.read_csv('test.csv')"
   ]
  },
  {
   "cell_type": "markdown",
   "id": "d2e970c6-c7d3-4cf7-9578-f6b585e9d37e",
   "metadata": {
    "tags": []
   },
   "source": [
    "# 2. check dataset information"
   ]
  },
  {
   "cell_type": "code",
   "execution_count": 3,
   "id": "0b587681-bf12-4dd6-9c05-f9780a437117",
   "metadata": {},
   "outputs": [
    {
     "name": "stdout",
     "output_type": "stream",
     "text": [
      "<class 'pandas.core.frame.DataFrame'>\n",
      "RangeIndex: 1017209 entries, 0 to 1017208\n",
      "Data columns (total 9 columns):\n",
      " #   Column         Non-Null Count    Dtype \n",
      "---  ------         --------------    ----- \n",
      " 0   Store          1017209 non-null  int64 \n",
      " 1   DayOfWeek      1017209 non-null  int64 \n",
      " 2   Date           1017209 non-null  object\n",
      " 3   Sales          1017209 non-null  int64 \n",
      " 4   Customers      1017209 non-null  int64 \n",
      " 5   Open           1017209 non-null  int64 \n",
      " 6   Promo          1017209 non-null  int64 \n",
      " 7   StateHoliday   1017209 non-null  object\n",
      " 8   SchoolHoliday  1017209 non-null  int64 \n",
      "dtypes: int64(7), object(2)\n",
      "memory usage: 69.8+ MB\n",
      "~~~~~~~~~~~~~~~~~~~~~~~~~~~~~~~~~~~~~\n",
      "<class 'pandas.core.frame.DataFrame'>\n",
      "RangeIndex: 1115 entries, 0 to 1114\n",
      "Data columns (total 10 columns):\n",
      " #   Column                     Non-Null Count  Dtype  \n",
      "---  ------                     --------------  -----  \n",
      " 0   Store                      1115 non-null   int64  \n",
      " 1   StoreType                  1115 non-null   object \n",
      " 2   Assortment                 1115 non-null   object \n",
      " 3   CompetitionDistance        1112 non-null   float64\n",
      " 4   CompetitionOpenSinceMonth  761 non-null    float64\n",
      " 5   CompetitionOpenSinceYear   761 non-null    float64\n",
      " 6   Promo2                     1115 non-null   int64  \n",
      " 7   Promo2SinceWeek            571 non-null    float64\n",
      " 8   Promo2SinceYear            571 non-null    float64\n",
      " 9   PromoInterval              571 non-null    object \n",
      "dtypes: float64(5), int64(2), object(3)\n",
      "memory usage: 87.2+ KB\n",
      "~~~~~~~~~~~~~~~~~~~~~~~~~~~~~~~~~~~~~\n",
      "<class 'pandas.core.frame.DataFrame'>\n",
      "RangeIndex: 41088 entries, 0 to 41087\n",
      "Data columns (total 8 columns):\n",
      " #   Column         Non-Null Count  Dtype  \n",
      "---  ------         --------------  -----  \n",
      " 0   Id             41088 non-null  int64  \n",
      " 1   Store          41088 non-null  int64  \n",
      " 2   DayOfWeek      41088 non-null  int64  \n",
      " 3   Date           41088 non-null  object \n",
      " 4   Open           41077 non-null  float64\n",
      " 5   Promo          41088 non-null  int64  \n",
      " 6   StateHoliday   41088 non-null  object \n",
      " 7   SchoolHoliday  41088 non-null  int64  \n",
      "dtypes: float64(1), int64(5), object(2)\n",
      "memory usage: 2.5+ MB\n"
     ]
    }
   ],
   "source": [
    "\n",
    "train_df.head()\n",
    "train_df.info()\n",
    "print('~~~~~~~~~~~~~~~~~~~~~~~~~~~~~~~~~~~~~')\n",
    "store_df.info()\n",
    "print('~~~~~~~~~~~~~~~~~~~~~~~~~~~~~~~~~~~~~')\n",
    "test_df.info()"
   ]
  },
  {
   "cell_type": "markdown",
   "id": "f52346ac-4943-48aa-88f2-85613831a386",
   "metadata": {},
   "source": [
    "# 3. try to find the outliers"
   ]
  },
  {
   "cell_type": "code",
   "execution_count": 4,
   "id": "a865097e-1027-4d0e-b01f-dfc66db0eced",
   "metadata": {},
   "outputs": [],
   "source": [
    "def check_unique(data):\n",
    "    for column in data.columns:\n",
    "        print('{}  unique values quantity: '.format(column),len(data[column].unique()))"
   ]
  },
  {
   "cell_type": "markdown",
   "id": "b8888f01-9d3b-4e66-927d-ed2859a3f10b",
   "metadata": {},
   "source": [
    "## 3.1 check store data set"
   ]
  },
  {
   "cell_type": "code",
   "execution_count": 5,
   "id": "243b26d2-cd53-4b58-905b-dce2447ea882",
   "metadata": {},
   "outputs": [
    {
     "name": "stdout",
     "output_type": "stream",
     "text": [
      "Store  unique values quantity:  1115\n",
      "StoreType  unique values quantity:  4\n",
      "Assortment  unique values quantity:  3\n",
      "CompetitionDistance  unique values quantity:  655\n",
      "CompetitionOpenSinceMonth  unique values quantity:  13\n",
      "CompetitionOpenSinceYear  unique values quantity:  24\n",
      "Promo2  unique values quantity:  2\n",
      "Promo2SinceWeek  unique values quantity:  25\n",
      "Promo2SinceYear  unique values quantity:  8\n",
      "PromoInterval  unique values quantity:  4\n"
     ]
    }
   ],
   "source": [
    "check_unique(store_df)"
   ]
  },
  {
   "cell_type": "code",
   "execution_count": 6,
   "id": "1fb71d61-eb01-4d2a-8d3e-2f1a1d524cbd",
   "metadata": {},
   "outputs": [
    {
     "data": {
      "text/plain": [
       "array([ 1.,  2.,  3.,  4.,  5.,  6.,  7.,  8.,  9., 10., 11., 12., nan])"
      ]
     },
     "execution_count": 6,
     "metadata": {},
     "output_type": "execute_result"
    }
   ],
   "source": [
    "np.sort(store_df['CompetitionOpenSinceMonth'].unique())"
   ]
  },
  {
   "cell_type": "code",
   "execution_count": 7,
   "id": "21e3e38e-0a03-4e33-936d-5c9854a02bbe",
   "metadata": {},
   "outputs": [
    {
     "data": {
      "text/plain": [
       "array([1900., 1961., 1990., 1994., 1995., 1998., 1999., 2000., 2001.,\n",
       "       2002., 2003., 2004., 2005., 2006., 2007., 2008., 2009., 2010.,\n",
       "       2011., 2012., 2013., 2014., 2015.,   nan])"
      ]
     },
     "execution_count": 7,
     "metadata": {},
     "output_type": "execute_result"
    }
   ],
   "source": [
    "np.sort(store_df['CompetitionOpenSinceYear'].unique())"
   ]
  },
  {
   "cell_type": "markdown",
   "id": "1853889a-a05f-4f30-bbde-6e8472b88856",
   "metadata": {},
   "source": [
    "## 3.2 check train data set"
   ]
  },
  {
   "cell_type": "code",
   "execution_count": 8,
   "id": "9f088f3b-0565-43a3-9d03-ebad1c3f1679",
   "metadata": {},
   "outputs": [
    {
     "name": "stdout",
     "output_type": "stream",
     "text": [
      "Store  unique values quantity:  1115\n",
      "DayOfWeek  unique values quantity:  7\n",
      "Date  unique values quantity:  942\n",
      "Sales  unique values quantity:  21734\n",
      "Customers  unique values quantity:  4086\n",
      "Open  unique values quantity:  2\n",
      "Promo  unique values quantity:  2\n",
      "StateHoliday  unique values quantity:  5\n",
      "SchoolHoliday  unique values quantity:  2\n"
     ]
    }
   ],
   "source": [
    "check_unique(train_df)"
   ]
  },
  {
   "cell_type": "code",
   "execution_count": 9,
   "id": "3f92289b-f58b-4251-9105-83aa6acf7750",
   "metadata": {},
   "outputs": [
    {
     "data": {
      "text/plain": [
       "array(['none', 'public holiday', 'Easter', 'Christmas'], dtype=object)"
      ]
     },
     "execution_count": 9,
     "metadata": {},
     "output_type": "execute_result"
    }
   ],
   "source": [
    "train_df['StateHoliday'].unique()\n",
    "train_df['StateHoliday']=train_df.StateHoliday.map({'0':'none',0:'none','a':'public holiday','b':'Easter','c':'Christmas'})\n",
    "train_df['StateHoliday'].unique()"
   ]
  },
  {
   "cell_type": "markdown",
   "id": "7e22b8b5-3b9f-4abe-9236-1d7e650c8ce1",
   "metadata": {},
   "source": [
    "## 3.2 check test data set"
   ]
  },
  {
   "cell_type": "code",
   "execution_count": 10,
   "id": "a7594dc8-cd21-498d-9c14-044495904a24",
   "metadata": {},
   "outputs": [
    {
     "name": "stdout",
     "output_type": "stream",
     "text": [
      "Id  unique values quantity:  41088\n",
      "Store  unique values quantity:  856\n",
      "DayOfWeek  unique values quantity:  7\n",
      "Date  unique values quantity:  48\n",
      "Open  unique values quantity:  3\n",
      "Promo  unique values quantity:  2\n",
      "StateHoliday  unique values quantity:  2\n",
      "SchoolHoliday  unique values quantity:  2\n"
     ]
    }
   ],
   "source": [
    "check_unique(test_df)"
   ]
  },
  {
   "cell_type": "code",
   "execution_count": 11,
   "id": "cb96644b-0122-4080-b417-b622b325a4f4",
   "metadata": {},
   "outputs": [
    {
     "data": {
      "text/plain": [
       "array(['0', 'a'], dtype=object)"
      ]
     },
     "execution_count": 11,
     "metadata": {},
     "output_type": "execute_result"
    }
   ],
   "source": [
    "test_df['StateHoliday'].unique()"
   ]
  },
  {
   "cell_type": "code",
   "execution_count": 12,
   "id": "6de8c62c-de3c-470a-85df-1f3d5c6b3f03",
   "metadata": {},
   "outputs": [
    {
     "data": {
      "text/plain": [
       "array([ 1., nan,  0.])"
      ]
     },
     "execution_count": 12,
     "metadata": {},
     "output_type": "execute_result"
    }
   ],
   "source": [
    "test_df['Open'].unique()"
   ]
  },
  {
   "cell_type": "markdown",
   "id": "c922a04f-65cf-4fc4-bf1e-2552f1ad09ef",
   "metadata": {},
   "source": [
    "## 3.3 check missing data (Nan)"
   ]
  },
  {
   "cell_type": "code",
   "execution_count": 13,
   "id": "37656ee9-8c1b-4584-923b-c259b76df1e9",
   "metadata": {},
   "outputs": [],
   "source": [
    "def check_Nan(data):\n",
    "    print('{:*^50}'.format(\"the columns includ Nan\"))\n",
    "    print(data.isnull().any(axis=0)) # 判断那些列含缺失值， 默认axis=0，就是看列\n",
    "    print('{:*^50}'.format(\"the quantity of Nan\"))\n",
    "    print(data.isnull().any(axis=1).sum())"
   ]
  },
  {
   "cell_type": "code",
   "execution_count": 14,
   "id": "74bb4281-8f9d-40d8-a7ff-38defb376155",
   "metadata": {},
   "outputs": [
    {
     "name": "stdout",
     "output_type": "stream",
     "text": [
      "**************the columns includ Nan**************\n",
      "Store                        False\n",
      "StoreType                    False\n",
      "Assortment                   False\n",
      "CompetitionDistance           True\n",
      "CompetitionOpenSinceMonth     True\n",
      "CompetitionOpenSinceYear      True\n",
      "Promo2                       False\n",
      "Promo2SinceWeek               True\n",
      "Promo2SinceYear               True\n",
      "PromoInterval                 True\n",
      "dtype: bool\n",
      "***************the quantity of Nan****************\n",
      "750\n"
     ]
    }
   ],
   "source": [
    "check_Nan(store_df)"
   ]
  },
  {
   "cell_type": "code",
   "execution_count": 15,
   "id": "8b68c228-4bdb-40eb-885d-2a455218c397",
   "metadata": {},
   "outputs": [
    {
     "name": "stdout",
     "output_type": "stream",
     "text": [
      "**************the columns includ Nan**************\n",
      "Store            False\n",
      "DayOfWeek        False\n",
      "Date             False\n",
      "Sales            False\n",
      "Customers        False\n",
      "Open             False\n",
      "Promo            False\n",
      "StateHoliday     False\n",
      "SchoolHoliday    False\n",
      "dtype: bool\n",
      "***************the quantity of Nan****************\n",
      "0\n"
     ]
    }
   ],
   "source": [
    "check_Nan(train_df)"
   ]
  },
  {
   "cell_type": "markdown",
   "id": "395117dd-2311-4c3b-939f-9f7f9e0ac19f",
   "metadata": {},
   "source": [
    "### conclusion: we found that the store_df include some missing data, I guess this because there is no competition, if the speculation is right, then, the everything about competition is Nan, like CompetitionDistance,CompetitionOpenSinceMonth.etc. \n",
    "### another speculation is if prom2 is 0, then the corresponding data like Promo2SinceWeek should be Nan.\n",
    "### we need to verify the guesses"
   ]
  },
  {
   "cell_type": "code",
   "execution_count": 16,
   "id": "be049554-33d8-46b8-b327-3d44985e6e22",
   "metadata": {},
   "outputs": [],
   "source": [
    "def check_none_together(data,columns):\n",
    "    indexes=[]\n",
    "    indexes_len=[]\n",
    "    for column in columns:\n",
    "        index=data[data[column].isnull()].index # 找出每列有空值的行索引\n",
    "        indexes_len.append(len(index))# 计算每列的缺失值的数量\n",
    "        indexes.append(index)# 保留每一列缺失值的索引\n",
    "    if set(indexes[0])==set(indexes[1]) and set(indexes[1])==set(indexes[2]):\n",
    "        print(\"all of this row is Nan\")\n",
    "    else:\n",
    "         print(indexes_len[0],indexes_len[1],indexes_len[2])#不一样，则把每个列缺失行数打印出来\n",
    "    return indexes"
   ]
  },
  {
   "cell_type": "code",
   "execution_count": 17,
   "id": "0edd7e19-6915-4fc7-bf96-806ffb198b0f",
   "metadata": {},
   "outputs": [
    {
     "name": "stdout",
     "output_type": "stream",
     "text": [
      "3 354 354\n"
     ]
    }
   ],
   "source": [
    "index_1=check_none_together(store_df,['CompetitionDistance','CompetitionOpenSinceMonth','CompetitionOpenSinceYear'])"
   ]
  },
  {
   "cell_type": "code",
   "execution_count": null,
   "id": "ade7d882-02a4-4be5-b4c3-8307cd3264b2",
   "metadata": {},
   "outputs": [],
   "source": []
  },
  {
   "cell_type": "code",
   "execution_count": 18,
   "id": "e51d381c-a5da-4c90-99b0-a6778b31bcc8",
   "metadata": {},
   "outputs": [
    {
     "name": "stdout",
     "output_type": "stream",
     "text": [
      "all of this row is Nan\n"
     ]
    }
   ],
   "source": [
    "# check if those two is Nan in same row\n",
    "index_2=check_none_together(store_df,['CompetitionOpenSinceYear','CompetitionOpenSinceMonth','CompetitionOpenSinceYear'])"
   ]
  },
  {
   "cell_type": "code",
   "execution_count": 19,
   "id": "71350cc1-b354-45ea-a759-ab30b6ebd461",
   "metadata": {},
   "outputs": [
    {
     "data": {
      "text/html": [
       "<div>\n",
       "<style scoped>\n",
       "    .dataframe tbody tr th:only-of-type {\n",
       "        vertical-align: middle;\n",
       "    }\n",
       "\n",
       "    .dataframe tbody tr th {\n",
       "        vertical-align: top;\n",
       "    }\n",
       "\n",
       "    .dataframe thead th {\n",
       "        text-align: right;\n",
       "    }\n",
       "</style>\n",
       "<table border=\"1\" class=\"dataframe\">\n",
       "  <thead>\n",
       "    <tr style=\"text-align: right;\">\n",
       "      <th></th>\n",
       "      <th>Store</th>\n",
       "      <th>StoreType</th>\n",
       "      <th>Assortment</th>\n",
       "      <th>CompetitionDistance</th>\n",
       "      <th>CompetitionOpenSinceMonth</th>\n",
       "      <th>CompetitionOpenSinceYear</th>\n",
       "      <th>Promo2</th>\n",
       "      <th>Promo2SinceWeek</th>\n",
       "      <th>Promo2SinceYear</th>\n",
       "      <th>PromoInterval</th>\n",
       "    </tr>\n",
       "  </thead>\n",
       "  <tbody>\n",
       "    <tr>\n",
       "      <th>290</th>\n",
       "      <td>291</td>\n",
       "      <td>d</td>\n",
       "      <td>a</td>\n",
       "      <td>NaN</td>\n",
       "      <td>NaN</td>\n",
       "      <td>NaN</td>\n",
       "      <td>0</td>\n",
       "      <td>NaN</td>\n",
       "      <td>NaN</td>\n",
       "      <td>NaN</td>\n",
       "    </tr>\n",
       "    <tr>\n",
       "      <th>621</th>\n",
       "      <td>622</td>\n",
       "      <td>a</td>\n",
       "      <td>c</td>\n",
       "      <td>NaN</td>\n",
       "      <td>NaN</td>\n",
       "      <td>NaN</td>\n",
       "      <td>0</td>\n",
       "      <td>NaN</td>\n",
       "      <td>NaN</td>\n",
       "      <td>NaN</td>\n",
       "    </tr>\n",
       "    <tr>\n",
       "      <th>878</th>\n",
       "      <td>879</td>\n",
       "      <td>d</td>\n",
       "      <td>a</td>\n",
       "      <td>NaN</td>\n",
       "      <td>NaN</td>\n",
       "      <td>NaN</td>\n",
       "      <td>1</td>\n",
       "      <td>5.0</td>\n",
       "      <td>2013.0</td>\n",
       "      <td>Feb,May,Aug,Nov</td>\n",
       "    </tr>\n",
       "  </tbody>\n",
       "</table>\n",
       "</div>"
      ],
      "text/plain": [
       "     Store StoreType Assortment  CompetitionDistance  \\\n",
       "290    291         d          a                  NaN   \n",
       "621    622         a          c                  NaN   \n",
       "878    879         d          a                  NaN   \n",
       "\n",
       "     CompetitionOpenSinceMonth  CompetitionOpenSinceYear  Promo2  \\\n",
       "290                        NaN                       NaN       0   \n",
       "621                        NaN                       NaN       0   \n",
       "878                        NaN                       NaN       1   \n",
       "\n",
       "     Promo2SinceWeek  Promo2SinceYear    PromoInterval  \n",
       "290              NaN              NaN              NaN  \n",
       "621              NaN              NaN              NaN  \n",
       "878              5.0           2013.0  Feb,May,Aug,Nov  "
      ]
     },
     "execution_count": 19,
     "metadata": {},
     "output_type": "execute_result"
    }
   ],
   "source": [
    "# show the NaN row in the CompetitionDistance\n",
    "store_df.iloc[index_1[0].values] "
   ]
  },
  {
   "cell_type": "code",
   "execution_count": 20,
   "id": "bbc51744-8ff0-416c-9bfd-84954777c206",
   "metadata": {},
   "outputs": [
    {
     "data": {
      "text/html": [
       "<div>\n",
       "<style scoped>\n",
       "    .dataframe tbody tr th:only-of-type {\n",
       "        vertical-align: middle;\n",
       "    }\n",
       "\n",
       "    .dataframe tbody tr th {\n",
       "        vertical-align: top;\n",
       "    }\n",
       "\n",
       "    .dataframe thead th {\n",
       "        text-align: right;\n",
       "    }\n",
       "</style>\n",
       "<table border=\"1\" class=\"dataframe\">\n",
       "  <thead>\n",
       "    <tr style=\"text-align: right;\">\n",
       "      <th></th>\n",
       "      <th>Store</th>\n",
       "      <th>StoreType</th>\n",
       "      <th>Assortment</th>\n",
       "      <th>CompetitionDistance</th>\n",
       "      <th>CompetitionOpenSinceMonth</th>\n",
       "      <th>CompetitionOpenSinceYear</th>\n",
       "      <th>Promo2</th>\n",
       "      <th>Promo2SinceWeek</th>\n",
       "      <th>Promo2SinceYear</th>\n",
       "      <th>PromoInterval</th>\n",
       "    </tr>\n",
       "  </thead>\n",
       "  <tbody>\n",
       "    <tr>\n",
       "      <th>964</th>\n",
       "      <td>965</td>\n",
       "      <td>a</td>\n",
       "      <td>c</td>\n",
       "      <td>110.0</td>\n",
       "      <td>NaN</td>\n",
       "      <td>NaN</td>\n",
       "      <td>0</td>\n",
       "      <td>NaN</td>\n",
       "      <td>NaN</td>\n",
       "      <td>NaN</td>\n",
       "    </tr>\n",
       "    <tr>\n",
       "      <th>1036</th>\n",
       "      <td>1037</td>\n",
       "      <td>a</td>\n",
       "      <td>c</td>\n",
       "      <td>150.0</td>\n",
       "      <td>NaN</td>\n",
       "      <td>NaN</td>\n",
       "      <td>0</td>\n",
       "      <td>NaN</td>\n",
       "      <td>NaN</td>\n",
       "      <td>NaN</td>\n",
       "    </tr>\n",
       "    <tr>\n",
       "      <th>735</th>\n",
       "      <td>736</td>\n",
       "      <td>c</td>\n",
       "      <td>c</td>\n",
       "      <td>1650.0</td>\n",
       "      <td>NaN</td>\n",
       "      <td>NaN</td>\n",
       "      <td>1</td>\n",
       "      <td>14.0</td>\n",
       "      <td>2011.0</td>\n",
       "      <td>Jan,Apr,Jul,Oct</td>\n",
       "    </tr>\n",
       "    <tr>\n",
       "      <th>828</th>\n",
       "      <td>829</td>\n",
       "      <td>c</td>\n",
       "      <td>a</td>\n",
       "      <td>110.0</td>\n",
       "      <td>NaN</td>\n",
       "      <td>NaN</td>\n",
       "      <td>0</td>\n",
       "      <td>NaN</td>\n",
       "      <td>NaN</td>\n",
       "      <td>NaN</td>\n",
       "    </tr>\n",
       "    <tr>\n",
       "      <th>889</th>\n",
       "      <td>890</td>\n",
       "      <td>a</td>\n",
       "      <td>a</td>\n",
       "      <td>4450.0</td>\n",
       "      <td>NaN</td>\n",
       "      <td>NaN</td>\n",
       "      <td>1</td>\n",
       "      <td>14.0</td>\n",
       "      <td>2011.0</td>\n",
       "      <td>Jan,Apr,Jul,Oct</td>\n",
       "    </tr>\n",
       "  </tbody>\n",
       "</table>\n",
       "</div>"
      ],
      "text/plain": [
       "      Store StoreType Assortment  CompetitionDistance  \\\n",
       "964     965         a          c                110.0   \n",
       "1036   1037         a          c                150.0   \n",
       "735     736         c          c               1650.0   \n",
       "828     829         c          a                110.0   \n",
       "889     890         a          a               4450.0   \n",
       "\n",
       "      CompetitionOpenSinceMonth  CompetitionOpenSinceYear  Promo2  \\\n",
       "964                         NaN                       NaN       0   \n",
       "1036                        NaN                       NaN       0   \n",
       "735                         NaN                       NaN       1   \n",
       "828                         NaN                       NaN       0   \n",
       "889                         NaN                       NaN       1   \n",
       "\n",
       "      Promo2SinceWeek  Promo2SinceYear    PromoInterval  \n",
       "964               NaN              NaN              NaN  \n",
       "1036              NaN              NaN              NaN  \n",
       "735              14.0           2011.0  Jan,Apr,Jul,Oct  \n",
       "828               NaN              NaN              NaN  \n",
       "889              14.0           2011.0  Jan,Apr,Jul,Oct  "
      ]
     },
     "execution_count": 20,
     "metadata": {},
     "output_type": "execute_result"
    }
   ],
   "source": [
    "store_df.iloc[index_1[1].values].sample(5) "
   ]
  },
  {
   "cell_type": "markdown",
   "id": "2450575a-e81e-49ce-844f-f68840aba2c0",
   "metadata": {},
   "source": [
    "#### conclusion: in the case of no competitor, the rest of CompetitionOpenSinceMonth and CompetitionOpenSinceYear empty values should be no records, but there are actually relevant data"
   ]
  },
  {
   "cell_type": "code",
   "execution_count": 21,
   "id": "0c222da9-214d-415a-a244-74943cdd4b19",
   "metadata": {},
   "outputs": [
    {
     "name": "stdout",
     "output_type": "stream",
     "text": [
      "all of this row is Nan\n"
     ]
    },
    {
     "data": {
      "text/plain": [
       "0"
      ]
     },
     "execution_count": 21,
     "metadata": {},
     "output_type": "execute_result"
    }
   ],
   "source": [
    "# check promo2 and the correspoding data\n",
    "index_3=check_none_together(store_df,['Promo2SinceWeek','Promo2SinceYear','PromoInterval'])\n",
    "sum(store_df.iloc[index_3[0]]['Promo2']!=0)#检验空值行的Promo2是否都为0"
   ]
  },
  {
   "cell_type": "markdown",
   "id": "a9b1e049-04fc-49c3-8a6c-4c62ac11f51d",
   "metadata": {},
   "source": [
    "#### conclusion: if promo2==0, then the corresponding data is NaN."
   ]
  },
  {
   "cell_type": "markdown",
   "id": "1283a7ac-8054-435d-b5ec-39b0939415a3",
   "metadata": {},
   "source": [
    "# 3 merge store and train together"
   ]
  },
  {
   "cell_type": "code",
   "execution_count": 31,
   "id": "c433fcb7-9434-4812-9761-16585606aefa",
   "metadata": {},
   "outputs": [
    {
     "data": {
      "text/html": [
       "<div>\n",
       "<style scoped>\n",
       "    .dataframe tbody tr th:only-of-type {\n",
       "        vertical-align: middle;\n",
       "    }\n",
       "\n",
       "    .dataframe tbody tr th {\n",
       "        vertical-align: top;\n",
       "    }\n",
       "\n",
       "    .dataframe thead th {\n",
       "        text-align: right;\n",
       "    }\n",
       "</style>\n",
       "<table border=\"1\" class=\"dataframe\">\n",
       "  <thead>\n",
       "    <tr style=\"text-align: right;\">\n",
       "      <th></th>\n",
       "      <th>Store</th>\n",
       "      <th>DayOfWeek</th>\n",
       "      <th>Date</th>\n",
       "      <th>Sales</th>\n",
       "      <th>Customers</th>\n",
       "      <th>Open</th>\n",
       "      <th>Promo</th>\n",
       "      <th>StateHoliday</th>\n",
       "      <th>SchoolHoliday</th>\n",
       "      <th>StoreType</th>\n",
       "      <th>Assortment</th>\n",
       "      <th>CompetitionDistance</th>\n",
       "      <th>CompetitionOpenSinceMonth</th>\n",
       "      <th>CompetitionOpenSinceYear</th>\n",
       "      <th>Promo2</th>\n",
       "      <th>Promo2SinceWeek</th>\n",
       "      <th>Promo2SinceYear</th>\n",
       "      <th>PromoInterval</th>\n",
       "    </tr>\n",
       "  </thead>\n",
       "  <tbody>\n",
       "    <tr>\n",
       "      <th>0</th>\n",
       "      <td>1</td>\n",
       "      <td>5</td>\n",
       "      <td>2015-07-31</td>\n",
       "      <td>5263</td>\n",
       "      <td>555</td>\n",
       "      <td>1</td>\n",
       "      <td>1</td>\n",
       "      <td>none</td>\n",
       "      <td>1</td>\n",
       "      <td>c</td>\n",
       "      <td>a</td>\n",
       "      <td>1270.0</td>\n",
       "      <td>9.0</td>\n",
       "      <td>2008.0</td>\n",
       "      <td>0</td>\n",
       "      <td>NaN</td>\n",
       "      <td>NaN</td>\n",
       "      <td>NaN</td>\n",
       "    </tr>\n",
       "    <tr>\n",
       "      <th>1</th>\n",
       "      <td>2</td>\n",
       "      <td>5</td>\n",
       "      <td>2015-07-31</td>\n",
       "      <td>6064</td>\n",
       "      <td>625</td>\n",
       "      <td>1</td>\n",
       "      <td>1</td>\n",
       "      <td>none</td>\n",
       "      <td>1</td>\n",
       "      <td>a</td>\n",
       "      <td>a</td>\n",
       "      <td>570.0</td>\n",
       "      <td>11.0</td>\n",
       "      <td>2007.0</td>\n",
       "      <td>1</td>\n",
       "      <td>13.0</td>\n",
       "      <td>2010.0</td>\n",
       "      <td>Jan,Apr,Jul,Oct</td>\n",
       "    </tr>\n",
       "    <tr>\n",
       "      <th>2</th>\n",
       "      <td>3</td>\n",
       "      <td>5</td>\n",
       "      <td>2015-07-31</td>\n",
       "      <td>8314</td>\n",
       "      <td>821</td>\n",
       "      <td>1</td>\n",
       "      <td>1</td>\n",
       "      <td>none</td>\n",
       "      <td>1</td>\n",
       "      <td>a</td>\n",
       "      <td>a</td>\n",
       "      <td>14130.0</td>\n",
       "      <td>12.0</td>\n",
       "      <td>2006.0</td>\n",
       "      <td>1</td>\n",
       "      <td>14.0</td>\n",
       "      <td>2011.0</td>\n",
       "      <td>Jan,Apr,Jul,Oct</td>\n",
       "    </tr>\n",
       "    <tr>\n",
       "      <th>3</th>\n",
       "      <td>4</td>\n",
       "      <td>5</td>\n",
       "      <td>2015-07-31</td>\n",
       "      <td>13995</td>\n",
       "      <td>1498</td>\n",
       "      <td>1</td>\n",
       "      <td>1</td>\n",
       "      <td>none</td>\n",
       "      <td>1</td>\n",
       "      <td>c</td>\n",
       "      <td>c</td>\n",
       "      <td>620.0</td>\n",
       "      <td>9.0</td>\n",
       "      <td>2009.0</td>\n",
       "      <td>0</td>\n",
       "      <td>NaN</td>\n",
       "      <td>NaN</td>\n",
       "      <td>NaN</td>\n",
       "    </tr>\n",
       "    <tr>\n",
       "      <th>4</th>\n",
       "      <td>5</td>\n",
       "      <td>5</td>\n",
       "      <td>2015-07-31</td>\n",
       "      <td>4822</td>\n",
       "      <td>559</td>\n",
       "      <td>1</td>\n",
       "      <td>1</td>\n",
       "      <td>none</td>\n",
       "      <td>1</td>\n",
       "      <td>a</td>\n",
       "      <td>a</td>\n",
       "      <td>29910.0</td>\n",
       "      <td>4.0</td>\n",
       "      <td>2015.0</td>\n",
       "      <td>0</td>\n",
       "      <td>NaN</td>\n",
       "      <td>NaN</td>\n",
       "      <td>NaN</td>\n",
       "    </tr>\n",
       "  </tbody>\n",
       "</table>\n",
       "</div>"
      ],
      "text/plain": [
       "   Store  DayOfWeek        Date  Sales  Customers  Open  Promo StateHoliday  \\\n",
       "0      1          5  2015-07-31   5263        555     1      1         none   \n",
       "1      2          5  2015-07-31   6064        625     1      1         none   \n",
       "2      3          5  2015-07-31   8314        821     1      1         none   \n",
       "3      4          5  2015-07-31  13995       1498     1      1         none   \n",
       "4      5          5  2015-07-31   4822        559     1      1         none   \n",
       "\n",
       "   SchoolHoliday StoreType Assortment  CompetitionDistance  \\\n",
       "0              1         c          a               1270.0   \n",
       "1              1         a          a                570.0   \n",
       "2              1         a          a              14130.0   \n",
       "3              1         c          c                620.0   \n",
       "4              1         a          a              29910.0   \n",
       "\n",
       "   CompetitionOpenSinceMonth  CompetitionOpenSinceYear  Promo2  \\\n",
       "0                        9.0                    2008.0       0   \n",
       "1                       11.0                    2007.0       1   \n",
       "2                       12.0                    2006.0       1   \n",
       "3                        9.0                    2009.0       0   \n",
       "4                        4.0                    2015.0       0   \n",
       "\n",
       "   Promo2SinceWeek  Promo2SinceYear    PromoInterval  \n",
       "0              NaN              NaN              NaN  \n",
       "1             13.0           2010.0  Jan,Apr,Jul,Oct  \n",
       "2             14.0           2011.0  Jan,Apr,Jul,Oct  \n",
       "3              NaN              NaN              NaN  \n",
       "4              NaN              NaN              NaN  "
      ]
     },
     "execution_count": 31,
     "metadata": {},
     "output_type": "execute_result"
    }
   ],
   "source": [
    "data_train_new=pd.merge(train_df,store_df,on='Store',how='left')\n",
    "data_train_new.head()\n"
   ]
  },
  {
   "cell_type": "code",
   "execution_count": 32,
   "id": "eef2927c-4e89-4769-9019-6e71a6649985",
   "metadata": {},
   "outputs": [
    {
     "name": "stdout",
     "output_type": "stream",
     "text": [
      "<class 'pandas.core.frame.DataFrame'>\n",
      "Int64Index: 1017209 entries, 0 to 1017208\n",
      "Data columns (total 18 columns):\n",
      " #   Column                     Non-Null Count    Dtype         \n",
      "---  ------                     --------------    -----         \n",
      " 0   Store                      1017209 non-null  int64         \n",
      " 1   DayOfWeek                  1017209 non-null  int64         \n",
      " 2   Date                       1017209 non-null  datetime64[ns]\n",
      " 3   Sales                      1017209 non-null  int64         \n",
      " 4   Customers                  1017209 non-null  int64         \n",
      " 5   Open                       1017209 non-null  int64         \n",
      " 6   Promo                      1017209 non-null  int64         \n",
      " 7   StateHoliday               1017209 non-null  object        \n",
      " 8   SchoolHoliday              1017209 non-null  int64         \n",
      " 9   StoreType                  1017209 non-null  object        \n",
      " 10  Assortment                 1017209 non-null  object        \n",
      " 11  CompetitionDistance        1014567 non-null  float64       \n",
      " 12  CompetitionOpenSinceMonth  693861 non-null   float64       \n",
      " 13  CompetitionOpenSinceYear   693861 non-null   float64       \n",
      " 14  Promo2                     1017209 non-null  int64         \n",
      " 15  Promo2SinceWeek            509178 non-null   float64       \n",
      " 16  Promo2SinceYear            509178 non-null   float64       \n",
      " 17  PromoInterval              509178 non-null   object        \n",
      "dtypes: datetime64[ns](1), float64(5), int64(8), object(4)\n",
      "memory usage: 147.5+ MB\n"
     ]
    }
   ],
   "source": [
    "data_train_new.Date=pd.to_datetime(data_train_new.Date)\n",
    "data_train_new.info()"
   ]
  },
  {
   "cell_type": "code",
   "execution_count": 33,
   "id": "e867563a-b10d-4608-864a-6ffe6fdc3a8f",
   "metadata": {},
   "outputs": [
    {
     "data": {
      "text/html": [
       "<div>\n",
       "<style scoped>\n",
       "    .dataframe tbody tr th:only-of-type {\n",
       "        vertical-align: middle;\n",
       "    }\n",
       "\n",
       "    .dataframe tbody tr th {\n",
       "        vertical-align: top;\n",
       "    }\n",
       "\n",
       "    .dataframe thead th {\n",
       "        text-align: right;\n",
       "    }\n",
       "</style>\n",
       "<table border=\"1\" class=\"dataframe\">\n",
       "  <thead>\n",
       "    <tr style=\"text-align: right;\">\n",
       "      <th></th>\n",
       "      <th>Store</th>\n",
       "      <th>DayOfWeek</th>\n",
       "      <th>Date</th>\n",
       "      <th>Sales</th>\n",
       "      <th>Customers</th>\n",
       "      <th>Open</th>\n",
       "      <th>Promo</th>\n",
       "      <th>StateHoliday</th>\n",
       "      <th>SchoolHoliday</th>\n",
       "      <th>StoreType</th>\n",
       "      <th>Assortment</th>\n",
       "      <th>CompetitionDistance</th>\n",
       "      <th>CompetitionOpenSinceMonth</th>\n",
       "      <th>CompetitionOpenSinceYear</th>\n",
       "      <th>Promo2</th>\n",
       "      <th>Promo2SinceWeek</th>\n",
       "      <th>Promo2SinceYear</th>\n",
       "      <th>PromoInterval</th>\n",
       "    </tr>\n",
       "  </thead>\n",
       "  <tbody>\n",
       "    <tr>\n",
       "      <th>0</th>\n",
       "      <td>1</td>\n",
       "      <td>5</td>\n",
       "      <td>2015-07-31</td>\n",
       "      <td>5263</td>\n",
       "      <td>555</td>\n",
       "      <td>1</td>\n",
       "      <td>1</td>\n",
       "      <td>none</td>\n",
       "      <td>1</td>\n",
       "      <td>c</td>\n",
       "      <td>a</td>\n",
       "      <td>1270.0</td>\n",
       "      <td>9.0</td>\n",
       "      <td>2008.0</td>\n",
       "      <td>0</td>\n",
       "      <td>NaN</td>\n",
       "      <td>NaN</td>\n",
       "      <td>NaN</td>\n",
       "    </tr>\n",
       "    <tr>\n",
       "      <th>1</th>\n",
       "      <td>2</td>\n",
       "      <td>5</td>\n",
       "      <td>2015-07-31</td>\n",
       "      <td>6064</td>\n",
       "      <td>625</td>\n",
       "      <td>1</td>\n",
       "      <td>1</td>\n",
       "      <td>none</td>\n",
       "      <td>1</td>\n",
       "      <td>a</td>\n",
       "      <td>a</td>\n",
       "      <td>570.0</td>\n",
       "      <td>11.0</td>\n",
       "      <td>2007.0</td>\n",
       "      <td>1</td>\n",
       "      <td>13.0</td>\n",
       "      <td>2010.0</td>\n",
       "      <td>Jan,Apr,Jul,Oct</td>\n",
       "    </tr>\n",
       "    <tr>\n",
       "      <th>2</th>\n",
       "      <td>3</td>\n",
       "      <td>5</td>\n",
       "      <td>2015-07-31</td>\n",
       "      <td>8314</td>\n",
       "      <td>821</td>\n",
       "      <td>1</td>\n",
       "      <td>1</td>\n",
       "      <td>none</td>\n",
       "      <td>1</td>\n",
       "      <td>a</td>\n",
       "      <td>a</td>\n",
       "      <td>14130.0</td>\n",
       "      <td>12.0</td>\n",
       "      <td>2006.0</td>\n",
       "      <td>1</td>\n",
       "      <td>14.0</td>\n",
       "      <td>2011.0</td>\n",
       "      <td>Jan,Apr,Jul,Oct</td>\n",
       "    </tr>\n",
       "    <tr>\n",
       "      <th>3</th>\n",
       "      <td>4</td>\n",
       "      <td>5</td>\n",
       "      <td>2015-07-31</td>\n",
       "      <td>13995</td>\n",
       "      <td>1498</td>\n",
       "      <td>1</td>\n",
       "      <td>1</td>\n",
       "      <td>none</td>\n",
       "      <td>1</td>\n",
       "      <td>c</td>\n",
       "      <td>c</td>\n",
       "      <td>620.0</td>\n",
       "      <td>9.0</td>\n",
       "      <td>2009.0</td>\n",
       "      <td>0</td>\n",
       "      <td>NaN</td>\n",
       "      <td>NaN</td>\n",
       "      <td>NaN</td>\n",
       "    </tr>\n",
       "    <tr>\n",
       "      <th>4</th>\n",
       "      <td>5</td>\n",
       "      <td>5</td>\n",
       "      <td>2015-07-31</td>\n",
       "      <td>4822</td>\n",
       "      <td>559</td>\n",
       "      <td>1</td>\n",
       "      <td>1</td>\n",
       "      <td>none</td>\n",
       "      <td>1</td>\n",
       "      <td>a</td>\n",
       "      <td>a</td>\n",
       "      <td>29910.0</td>\n",
       "      <td>4.0</td>\n",
       "      <td>2015.0</td>\n",
       "      <td>0</td>\n",
       "      <td>NaN</td>\n",
       "      <td>NaN</td>\n",
       "      <td>NaN</td>\n",
       "    </tr>\n",
       "  </tbody>\n",
       "</table>\n",
       "</div>"
      ],
      "text/plain": [
       "   Store  DayOfWeek       Date  Sales  Customers  Open  Promo StateHoliday  \\\n",
       "0      1          5 2015-07-31   5263        555     1      1         none   \n",
       "1      2          5 2015-07-31   6064        625     1      1         none   \n",
       "2      3          5 2015-07-31   8314        821     1      1         none   \n",
       "3      4          5 2015-07-31  13995       1498     1      1         none   \n",
       "4      5          5 2015-07-31   4822        559     1      1         none   \n",
       "\n",
       "   SchoolHoliday StoreType Assortment  CompetitionDistance  \\\n",
       "0              1         c          a               1270.0   \n",
       "1              1         a          a                570.0   \n",
       "2              1         a          a              14130.0   \n",
       "3              1         c          c                620.0   \n",
       "4              1         a          a              29910.0   \n",
       "\n",
       "   CompetitionOpenSinceMonth  CompetitionOpenSinceYear  Promo2  \\\n",
       "0                        9.0                    2008.0       0   \n",
       "1                       11.0                    2007.0       1   \n",
       "2                       12.0                    2006.0       1   \n",
       "3                        9.0                    2009.0       0   \n",
       "4                        4.0                    2015.0       0   \n",
       "\n",
       "   Promo2SinceWeek  Promo2SinceYear    PromoInterval  \n",
       "0              NaN              NaN              NaN  \n",
       "1             13.0           2010.0  Jan,Apr,Jul,Oct  \n",
       "2             14.0           2011.0  Jan,Apr,Jul,Oct  \n",
       "3              NaN              NaN              NaN  \n",
       "4              NaN              NaN              NaN  "
      ]
     },
     "execution_count": 33,
     "metadata": {},
     "output_type": "execute_result"
    }
   ],
   "source": [
    "data_train_new.head()"
   ]
  },
  {
   "cell_type": "markdown",
   "id": "8724cc44-bc67-40d5-a15f-d422042757dc",
   "metadata": {},
   "source": [
    "# 4 exploratory data analysis"
   ]
  },
  {
   "cell_type": "code",
   "execution_count": 35,
   "id": "07e788c4-85eb-4f22-84d2-b91b90b52351",
   "metadata": {},
   "outputs": [],
   "source": [
    "import matplotlib.pyplot as plt\n",
    "import seaborn as sns\n",
    "%matplotlib inline"
   ]
  },
  {
   "cell_type": "code",
   "execution_count": 37,
   "id": "c8e6a194-8364-451a-b7b8-9583d94ed2f4",
   "metadata": {},
   "outputs": [
    {
     "name": "stdout",
     "output_type": "stream",
     "text": [
      "Store\n",
      "1        371.6854\n",
      "2        388.3858\n",
      "3        540.8261\n",
      "4        755.6507\n",
      "5        364.2818\n",
      "          ...    \n",
      "1111     409.1076\n",
      "1112     797.4294\n",
      "1113     519.6242\n",
      "1114    1620.2585\n",
      "1115     492.2229\n",
      "Name: Sales, Length: 1115, dtype: float64\n"
     ]
    },
    {
     "data": {
      "text/plain": [
       "Text(0.5, 6.79999999999999, 'Total Sales')"
      ]
     },
     "execution_count": 37,
     "metadata": {},
     "output_type": "execute_result"
    },
    {
     "data": {
      "image/png": "[encoded data removed]",
      "text/plain": [
       "<Figure size 360x360 with 1 Axes>"
      ]
     },
     "metadata": {
      "needs_background": "light"
     },
     "output_type": "display_data"
    }
   ],
   "source": [
    "df1=data_train_new.groupby('Store')['Sales'].sum()/10000\n",
    "print(df1)\n",
    "sns.displot(df1)\n",
    "plt.title('distribution of Sales')\n",
    "plt.xlabel('Total Sales')"
   ]
  },
  {
   "cell_type": "markdown",
   "id": "8c26c98f-954c-45dd-9b51-d01af9ffae44",
   "metadata": {},
   "source": [
    "## 4.1 the connection between Sales and time"
   ]
  },
  {
   "cell_type": "code",
   "execution_count": 40,
   "id": "78ee15d7-5a4d-496e-8d0c-81b8b026c7b8",
   "metadata": {},
   "outputs": [
    {
     "name": "stdout",
     "output_type": "stream",
     "text": [
      "   DayOfWeek        Sales\n",
      "0          1  7809.044510\n",
      "1          2  7005.244467\n",
      "2          3  6555.884138\n",
      "3          4  6247.575913\n",
      "4          5  6723.274305\n",
      "5          6  5847.562599\n",
      "6          7   204.183189\n"
     ]
    },
    {
     "data": {
      "text/plain": [
       "Text(0.5, 1.0, 'Sales in different day of week')"
      ]
     },
     "execution_count": 40,
     "metadata": {},
     "output_type": "execute_result"
    },
    {
     "data": {
      "image/png": "[encoded data removed]",
      "text/plain": [
       "<Figure size 432x288 with 1 Axes>"
      ]
     },
     "metadata": {
      "needs_background": "light"
     },
     "output_type": "display_data"
    }
   ],
   "source": [
    "df2=data_train_new.groupby('DayOfWeek')['Sales'].mean().reset_index()\n",
    "print(df2)\n",
    "sns.pointplot(data=df2,x='DayOfWeek',y='Sales')\n",
    "plt.title('Sales in different day of week')\n"
   ]
  },
  {
   "cell_type": "markdown",
   "id": "3a4e5aeb-83ca-47bf-9f1d-16b2a1657aa8",
   "metadata": {},
   "source": [
    "#### conclusion: we can see the Salese reduces with the time changes from Monday to Sunday. on Sunday most of the store do not open"
   ]
  },
  {
   "cell_type": "code",
   "execution_count": null,
   "id": "a707c7d6-3b2e-405d-82a0-719292ea3622",
   "metadata": {},
   "outputs": [],
   "source": []
  }
 ],
 "metadata": {
  "kernelspec": {
   "display_name": "Python 3 (ipykernel)",
   "language": "python",
   "name": "python3"
  },
  "language_info": {
   "codemirror_mode": {
    "name": "ipython",
    "version": 3
   },
   "file_extension": ".py",
   "mimetype": "text/x-python",
   "name": "python",
   "nbconvert_exporter": "python",
   "pygments_lexer": "ipython3",
   "version": "3.10.4"
  }
 },
 "nbformat": 4,
 "nbformat_minor": 5
}
