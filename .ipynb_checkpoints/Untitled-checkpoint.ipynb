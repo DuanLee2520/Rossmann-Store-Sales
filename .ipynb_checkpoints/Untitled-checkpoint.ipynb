{
 "cells": [
  {
   "cell_type": "code",
   "execution_count": 20,
   "id": "49c131e0-33b7-4972-9833-938110d0e04d",
   "metadata": {},
   "outputs": [],
   "source": [
    "import warnings\n",
    "warnings.filterwarnings(\"ignore\")\n",
    "# loading packages\n",
    "# 1 basic\n",
    "import numpy as np\n",
    "import pandas as pd\n",
    "from pandas import Series,DataFrame"
   ]
  },
  {
   "cell_type": "markdown",
   "id": "3fa1f01f-07bf-41a4-a90f-0f697789164e",
   "metadata": {
    "tags": []
   },
   "source": [
    "# 1. get the data"
   ]
  },
  {
   "cell_type": "code",
   "execution_count": 3,
   "id": "1a4d232a-8b43-44cc-8e8e-3f33a20e9fcc",
   "metadata": {},
   "outputs": [],
   "source": [
    "train_df=pd.read_csv('train.csv')\n",
    "store_df=pd.read_csv('store.csv')\n",
    "test_df=pd.read_csv('test.csv')"
   ]
  },
  {
   "cell_type": "markdown",
   "id": "d2e970c6-c7d3-4cf7-9578-f6b585e9d37e",
   "metadata": {
    "tags": []
   },
   "source": [
    "# 2. check dataset information"
   ]
  },
  {
   "cell_type": "code",
   "execution_count": 6,
   "id": "0b587681-bf12-4dd6-9c05-f9780a437117",
   "metadata": {},
   "outputs": [
    {
     "name": "stdout",
     "output_type": "stream",
     "text": [
      "<class 'pandas.core.frame.DataFrame'>\n",
      "RangeIndex: 1017209 entries, 0 to 1017208\n",
      "Data columns (total 9 columns):\n",
      " #   Column         Non-Null Count    Dtype \n",
      "---  ------         --------------    ----- \n",
      " 0   Store          1017209 non-null  int64 \n",
      " 1   DayOfWeek      1017209 non-null  int64 \n",
      " 2   Date           1017209 non-null  object\n",
      " 3   Sales          1017209 non-null  int64 \n",
      " 4   Customers      1017209 non-null  int64 \n",
      " 5   Open           1017209 non-null  int64 \n",
      " 6   Promo          1017209 non-null  int64 \n",
      " 7   StateHoliday   1017209 non-null  object\n",
      " 8   SchoolHoliday  1017209 non-null  int64 \n",
      "dtypes: int64(7), object(2)\n",
      "memory usage: 69.8+ MB\n",
      "~~~~~~~~~~~~~~~~~~~~~~~~~~~~~~~~~~~~~\n",
      "<class 'pandas.core.frame.DataFrame'>\n",
      "RangeIndex: 1115 entries, 0 to 1114\n",
      "Data columns (total 10 columns):\n",
      " #   Column                     Non-Null Count  Dtype  \n",
      "---  ------                     --------------  -----  \n",
      " 0   Store                      1115 non-null   int64  \n",
      " 1   StoreType                  1115 non-null   object \n",
      " 2   Assortment                 1115 non-null   object \n",
      " 3   CompetitionDistance        1112 non-null   float64\n",
      " 4   CompetitionOpenSinceMonth  761 non-null    float64\n",
      " 5   CompetitionOpenSinceYear   761 non-null    float64\n",
      " 6   Promo2                     1115 non-null   int64  \n",
      " 7   Promo2SinceWeek            571 non-null    float64\n",
      " 8   Promo2SinceYear            571 non-null    float64\n",
      " 9   PromoInterval              571 non-null    object \n",
      "dtypes: float64(5), int64(2), object(3)\n",
      "memory usage: 87.2+ KB\n",
      "~~~~~~~~~~~~~~~~~~~~~~~~~~~~~~~~~~~~~\n",
      "<class 'pandas.core.frame.DataFrame'>\n",
      "RangeIndex: 41088 entries, 0 to 41087\n",
      "Data columns (total 8 columns):\n",
      " #   Column         Non-Null Count  Dtype  \n",
      "---  ------         --------------  -----  \n",
      " 0   Id             41088 non-null  int64  \n",
      " 1   Store          41088 non-null  int64  \n",
      " 2   DayOfWeek      41088 non-null  int64  \n",
      " 3   Date           41088 non-null  object \n",
      " 4   Open           41077 non-null  float64\n",
      " 5   Promo          41088 non-null  int64  \n",
      " 6   StateHoliday   41088 non-null  object \n",
      " 7   SchoolHoliday  41088 non-null  int64  \n",
      "dtypes: float64(1), int64(5), object(2)\n",
      "memory usage: 2.5+ MB\n"
     ]
    }
   ],
   "source": [
    "\n",
    "train_df.head()\n",
    "train_df.info()\n",
    "print('~~~~~~~~~~~~~~~~~~~~~~~~~~~~~~~~~~~~~')\n",
    "store_df.info()\n",
    "print('~~~~~~~~~~~~~~~~~~~~~~~~~~~~~~~~~~~~~')\n",
    "test_df.info()"
   ]
  },
  {
   "cell_type": "markdown",
   "id": "f52346ac-4943-48aa-88f2-85613831a386",
   "metadata": {},
   "source": [
    "# 3. try to find the outliers"
   ]
  },
  {
   "cell_type": "code",
   "execution_count": 10,
   "id": "a865097e-1027-4d0e-b01f-dfc66db0eced",
   "metadata": {},
   "outputs": [],
   "source": [
    "def check_unique(data):\n",
    "    for column in data.columns:\n",
    "        print('{}  unique values quantity: '.format(column),len(data[column].unique()))"
   ]
  },
  {
   "cell_type": "markdown",
   "id": "b8888f01-9d3b-4e66-927d-ed2859a3f10b",
   "metadata": {},
   "source": [
    "## 3.1 check store data set"
   ]
  },
  {
   "cell_type": "code",
   "execution_count": 11,
   "id": "243b26d2-cd53-4b58-905b-dce2447ea882",
   "metadata": {},
   "outputs": [
    {
     "name": "stdout",
     "output_type": "stream",
     "text": [
      "Store  unique values quantity:  1115\n",
      "StoreType  unique values quantity:  4\n",
      "Assortment  unique values quantity:  3\n",
      "CompetitionDistance  unique values quantity:  655\n",
      "CompetitionOpenSinceMonth  unique values quantity:  13\n",
      "CompetitionOpenSinceYear  unique values quantity:  24\n",
      "Promo2  unique values quantity:  2\n",
      "Promo2SinceWeek  unique values quantity:  25\n",
      "Promo2SinceYear  unique values quantity:  8\n",
      "PromoInterval  unique values quantity:  4\n"
     ]
    }
   ],
   "source": [
    "check_unique(store_df)"
   ]
  },
  {
   "cell_type": "code",
   "execution_count": 9,
   "id": "1fb71d61-eb01-4d2a-8d3e-2f1a1d524cbd",
   "metadata": {},
   "outputs": [
    {
     "data": {
      "text/plain": [
       "array([ 1.,  2.,  3.,  4.,  5.,  6.,  7.,  8.,  9., 10., 11., 12., nan])"
      ]
     },
     "execution_count": 9,
     "metadata": {},
     "output_type": "execute_result"
    }
   ],
   "source": [
    "np.sort(store_df['CompetitionOpenSinceMonth'].unique())"
   ]
  },
  {
   "cell_type": "code",
   "execution_count": 12,
   "id": "21e3e38e-0a03-4e33-936d-5c9854a02bbe",
   "metadata": {},
   "outputs": [
    {
     "data": {
      "text/plain": [
       "array([1900., 1961., 1990., 1994., 1995., 1998., 1999., 2000., 2001.,\n",
       "       2002., 2003., 2004., 2005., 2006., 2007., 2008., 2009., 2010.,\n",
       "       2011., 2012., 2013., 2014., 2015.,   nan])"
      ]
     },
     "execution_count": 12,
     "metadata": {},
     "output_type": "execute_result"
    }
   ],
   "source": [
    "np.sort(store_df['CompetitionOpenSinceYear'].unique())"
   ]
  },
  {
   "cell_type": "markdown",
   "id": "1853889a-a05f-4f30-bbde-6e8472b88856",
   "metadata": {},
   "source": [
    "## 3.2 check train data set"
   ]
  },
  {
   "cell_type": "code",
   "execution_count": 15,
   "id": "9f088f3b-0565-43a3-9d03-ebad1c3f1679",
   "metadata": {},
   "outputs": [
    {
     "name": "stdout",
     "output_type": "stream",
     "text": [
      "Store  unique values quantity:  1115\n",
      "DayOfWeek  unique values quantity:  7\n",
      "Date  unique values quantity:  942\n",
      "Sales  unique values quantity:  21734\n",
      "Customers  unique values quantity:  4086\n",
      "Open  unique values quantity:  2\n",
      "Promo  unique values quantity:  2\n",
      "StateHoliday  unique values quantity:  5\n",
      "SchoolHoliday  unique values quantity:  2\n"
     ]
    }
   ],
   "source": [
    "check_unique(train_df)"
   ]
  },
  {
   "cell_type": "code",
   "execution_count": 18,
   "id": "3f92289b-f58b-4251-9105-83aa6acf7750",
   "metadata": {},
   "outputs": [
    {
     "data": {
      "text/plain": [
       "array(['none', 'public holiday', 'Easter', 'Christmas'], dtype=object)"
      ]
     },
     "execution_count": 18,
     "metadata": {},
     "output_type": "execute_result"
    }
   ],
   "source": [
    "train_df['StateHoliday'].unique()\n",
    "train_df['StateHoliday']=train_df.StateHoliday.map({'0':'none',0:'none','a':'public holiday','b':'Easter','c':'Christmas'})\n",
    "train_df['StateHoliday'].unique()"
   ]
  },
  {
   "cell_type": "markdown",
   "id": "7e22b8b5-3b9f-4abe-9236-1d7e650c8ce1",
   "metadata": {},
   "source": [
    "## 3.2 check test data set"
   ]
  },
  {
   "cell_type": "code",
   "execution_count": 14,
   "id": "a7594dc8-cd21-498d-9c14-044495904a24",
   "metadata": {},
   "outputs": [
    {
     "name": "stdout",
     "output_type": "stream",
     "text": [
      "Id  unique values quantity:  41088\n",
      "Store  unique values quantity:  856\n",
      "DayOfWeek  unique values quantity:  7\n",
      "Date  unique values quantity:  48\n",
      "Open  unique values quantity:  3\n",
      "Promo  unique values quantity:  2\n",
      "StateHoliday  unique values quantity:  2\n",
      "SchoolHoliday  unique values quantity:  2\n"
     ]
    }
   ],
   "source": [
    "check_unique(test_df)"
   ]
  },
  {
   "cell_type": "code",
   "execution_count": 19,
   "id": "cb96644b-0122-4080-b417-b622b325a4f4",
   "metadata": {},
   "outputs": [
    {
     "data": {
      "text/plain": [
       "array(['0', 'a'], dtype=object)"
      ]
     },
     "execution_count": 19,
     "metadata": {},
     "output_type": "execute_result"
    }
   ],
   "source": [
    "test_df['StateHoliday'].unique()"
   ]
  },
  {
   "cell_type": "code",
   "execution_count": 21,
   "id": "6de8c62c-de3c-470a-85df-1f3d5c6b3f03",
   "metadata": {},
   "outputs": [
    {
     "data": {
      "text/plain": [
       "array([ 1., nan,  0.])"
      ]
     },
     "execution_count": 21,
     "metadata": {},
     "output_type": "execute_result"
    }
   ],
   "source": [
    "test_df['Open'].unique()"
   ]
  },
  {
   "cell_type": "code",
   "execution_count": null,
   "id": "b56d015a-c519-41a8-a0e4-ae48cc7c69ed",
   "metadata": {},
   "outputs": [],
   "source": []
  }
 ],
 "metadata": {
  "kernelspec": {
   "display_name": "Python 3 (ipykernel)",
   "language": "python",
   "name": "python3"
  },
  "language_info": {
   "codemirror_mode": {
    "name": "ipython",
    "version": 3
   },
   "file_extension": ".py",
   "mimetype": "text/x-python",
   "name": "python",
   "nbconvert_exporter": "python",
   "pygments_lexer": "ipython3",
   "version": "3.10.4"
  }
 },
 "nbformat": 4,
 "nbformat_minor": 5
}
