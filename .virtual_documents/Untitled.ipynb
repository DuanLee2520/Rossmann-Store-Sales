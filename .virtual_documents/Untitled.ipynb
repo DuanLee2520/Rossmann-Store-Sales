import warnings
warnings.filterwarnings("ignore")
# loading packages
# 1 basic
import numpy as np
import pandas as pd
from pandas import Series,DataFrame

# data visualization
import matplotlib.pyplot as plt
import seaborn as sns
sns.set_style('whitegrid')
get_ipython().run_line_magic("matplotlib", " inline")

# machine learning
from sklearn.linear_model import LinearRegression
from sklearn.linear_model import LogisticRegression
from sklearn.svm import SVC, LinearSVC
from sklearn.ensemble import RandomForestClassifier
from sklearn.neighbors import KNeighborsClassifier
from sklearn.naive_bayes import GaussianNB
import xgboost as xgb


# get the data
train_df=pd.read_csv('train.csv')
store_df=pd.read_csv('store.csv')
test_df=pd.read_csv('test.csv')


train_df.head()
train_df.info()
print('~~~~~~~~~~~~~~~~~~~~~~~~~~~~~~~~~~~~~')
store_df.info()
print('~~~~~~~~~~~~~~~~~~~~~~~~~~~~~~~~~~~~~')
test_df.info()



